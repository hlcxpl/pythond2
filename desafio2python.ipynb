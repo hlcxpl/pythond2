{
 "cells": [
  {
   "cell_type": "markdown",
   "metadata": {},
   "source": [
    "pregunta 1"
   ]
  },
  {
   "cell_type": "code",
   "execution_count": 1,
   "metadata": {},
   "outputs": [
    {
     "name": "stdout",
     "output_type": "stream",
     "text": [
      "La suma de los números pares entre 10 y 20 es: 90\n"
     ]
    }
   ],
   "source": [
    "def suma_numeros_pares(numero1, numero2):\n",
    "    suma_pares = 0\n",
    "    inicio = min(numero1, numero2)\n",
    "    fin = max(numero1, numero2)\n",
    "\n",
    "    for num in range(inicio, fin + 1):\n",
    "        if num % 2 == 0:\n",
    "            suma_pares += num\n",
    "\n",
    "    return suma_pares\n",
    "\n",
    "if __name__ == \"__main__\":\n",
    "    try:\n",
    "        num1 = int(input(\"Ingrese el primer número entero: \"))\n",
    "        num2 = int(input(\"Ingrese el segundo número entero: \"))\n",
    "        \n",
    "        resultado = suma_numeros_pares(num1, num2)\n",
    "        print(f\"La suma de los números pares entre {num1} y {num2} es: {resultado}\")\n",
    "    except ValueError:\n",
    "        print(\"Error: Ingrese números enteros válidos.\")\n"
   ]
  },
  {
   "cell_type": "markdown",
   "metadata": {},
   "source": [
    "pregunta 2"
   ]
  },
  {
   "cell_type": "code",
   "execution_count": 2,
   "metadata": {},
   "outputs": [
    {
     "name": "stdout",
     "output_type": "stream",
     "text": [
      "El área del triángulo es: 900.0\n"
     ]
    }
   ],
   "source": [
    "import math\n",
    "\n",
    "def calcular_area_cuadrado(lado):\n",
    "    return lado ** 2\n",
    "\n",
    "def calcular_area_triangulo(base, altura):\n",
    "    return (base * altura) / 2\n",
    "\n",
    "def calcular_area_circulo(radio):\n",
    "    return math.pi * (radio ** 2)\n",
    "\n",
    "if __name__ == \"__main__\":\n",
    "    try:\n",
    "        figura = input(\"Ingrese la figura geométrica (cuadrado, triángulo o círculo): \").lower()\n",
    "        \n",
    "        if figura == \"cuadrado\":\n",
    "            lado = float(input(\"Ingrese el valor del lado del cuadrado: \"))\n",
    "            area = calcular_area_cuadrado(lado)\n",
    "            print(f\"El área del cuadrado es: {area}\")\n",
    "        elif figura == \"triangulo\":\n",
    "            base = float(input(\"Ingrese el valor de la base del triángulo: \"))\n",
    "            altura = float(input(\"Ingrese el valor de la altura del triángulo: \"))\n",
    "            area = calcular_area_triangulo(base, altura)\n",
    "            print(f\"El área del triángulo es: {area}\")\n",
    "        elif figura == \"circulo\":\n",
    "            radio = float(input(\"Ingrese el valor del radio del círculo: \"))\n",
    "            area = calcular_area_circulo(radio)\n",
    "            print(f\"El área del círculo es: {area}\")\n",
    "        else:\n",
    "            print(\"Figura geométrica no reconocida. Intente nuevamente.\")\n",
    "    except ValueError:\n",
    "        print(\"Error: Ingrese valores numéricos válidos.\")\n"
   ]
  },
  {
   "cell_type": "markdown",
   "metadata": {},
   "source": [
    "pregunta 3"
   ]
  },
  {
   "cell_type": "code",
   "execution_count": 3,
   "metadata": {},
   "outputs": [
    {
     "name": "stdout",
     "output_type": "stream",
     "text": [
      "Bienvenido al juego de adivinar el número.\n",
      "El número que has introducido es menor. Intenta nuevamente.\n",
      "El número que has introducido es mayor. Intenta nuevamente.\n",
      "El número que has introducido es menor. Intenta nuevamente.\n",
      "El número que has introducido es menor. Intenta nuevamente.\n",
      "¡Felicidades! Adivinaste el número en 5 intentos.\n"
     ]
    }
   ],
   "source": [
    "import random\n",
    "\n",
    "def adivina_el_numero():\n",
    "    numero_secreto = random.randint(1, 100)\n",
    "    intentos = 0\n",
    "\n",
    "    while True:\n",
    "        try:\n",
    "            guess = int(input(\"Adivina el número entre 1 y 100: \"))\n",
    "            intentos += 1\n",
    "\n",
    "            if guess == numero_secreto:\n",
    "                print(f\"¡Felicidades! Adivinaste el número en {intentos} intentos.\")\n",
    "                break\n",
    "            elif guess < numero_secreto:\n",
    "                print(\"El número que has introducido es menor. Intenta nuevamente.\")\n",
    "            else:\n",
    "                print(\"El número que has introducido es mayor. Intenta nuevamente.\")\n",
    "        except ValueError:\n",
    "            print(\"Error: Ingrese un número válido.\")\n",
    "\n",
    "if __name__ == \"__main__\":\n",
    "    print(\"Bienvenido al juego de adivinar el número.\")\n",
    "    adivina_el_numero()\n"
   ]
  },
  {
   "cell_type": "markdown",
   "metadata": {},
   "source": [
    "pregunta 4"
   ]
  },
  {
   "cell_type": "code",
   "execution_count": 7,
   "metadata": {},
   "outputs": [
    {
     "name": "stdout",
     "output_type": "stream",
     "text": [
      "🐌\n",
      "_____🐌\n",
      "__________🐌\n",
      "_______________🐌\n",
      "____________________🐌\n",
      "_________________________🐌\n",
      "______________________________🐌\n",
      "___________________________________🐌\n",
      "________________________________________🐌\n",
      "_____________________________________________🐌\n",
      "__________________________________________________🐌\n",
      "_______________________________________________________🐌\n",
      "____________________________________________________________🐌\n",
      "_________________________________________________________________🐌\n",
      "______________________________________________________________________🐌\n",
      "___________________________________________________________________________🐌\n",
      "________________________________________________________________________________🐌\n",
      "_____________________________________________________________________________________🐌\n",
      "__________________________________________________________________________________________🐌\n",
      "_______________________________________________________________________________________________🐌\n"
     ]
    }
   ],
   "source": [
    "import time\n",
    "\n",
    "def simular_caracol(velocidad):\n",
    "    distancia_recorrida = 0\n",
    "\n",
    "    while distancia_recorrida < 100:\n",
    "        print(\"_\" * distancia_recorrida + \"🐌\")\n",
    "        distancia_recorrida += velocidad\n",
    "        time.sleep(0.5)  # Pausa para visualizar el movimiento\n",
    "\n",
    "if __name__ == \"__main__\":\n",
    "    try:\n",
    "        velocidad_caracol = int(input(\"Ingresa la velocidad del caracol (en unidades por paso): \"))\n",
    "        simular_caracol(velocidad_caracol)\n",
    "    except ValueError:\n",
    "        print(\"Error: Ingresa un número entero para la velocidad.\")\n"
   ]
  }
 ],
 "metadata": {
  "kernelspec": {
   "display_name": "Python 3",
   "language": "python",
   "name": "python3"
  },
  "language_info": {
   "codemirror_mode": {
    "name": "ipython",
    "version": 3
   },
   "file_extension": ".py",
   "mimetype": "text/x-python",
   "name": "python",
   "nbconvert_exporter": "python",
   "pygments_lexer": "ipython3",
   "version": "3.11.0"
  },
  "orig_nbformat": 4
 },
 "nbformat": 4,
 "nbformat_minor": 2
}
